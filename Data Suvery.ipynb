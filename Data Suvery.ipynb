{
 "cells": [
  {
   "cell_type": "code",
   "execution_count": null,
   "id": "da7125f7",
   "metadata": {},
   "outputs": [
    {
     "name": "stdout",
     "output_type": "stream",
     "text": [
      "Welcome to my Sample Suvery App!\n"
     ]
    }
   ],
   "source": [
    "# Sample survey form\n",
    "print(\"Welcome to my Sample Suvery App!\")\n",
    "\n",
    "age = int(input(\"What is your age:\"))\n",
    "\n",
    "if age > 12:\n",
    "  \n",
    "  print(\"You are qualified for the suvery, move to next page.\")\n",
    "  name = input(\"What is your full name:\")\n",
    "  sex = input(\"M/F:\").upper()\n",
    "  phone_number = int(input(\"Enter your phone number:\"))\n",
    "  father_name = input(\"what's your father name?\")\n",
    "  mother_name = input(\"what's your mother name?\")\n",
    "  address = input(\"where do you live? \")\n",
    "while age <=12:\n",
    "  print(\"You are not qualify for this suvrey\")\n",
    "  break\n",
    "\n",
    "\n",
    "else:\n",
    "    result = f\"{name}\"\n",
    "    print(f\"{result},\" \"Thanks for your time\")\n"
   ]
  },
  {
   "cell_type": "markdown",
   "id": "02d8d43a",
   "metadata": {},
   "source": []
  },
  {
   "cell_type": "code",
   "execution_count": null,
   "id": "93fa6c0d",
   "metadata": {},
   "outputs": [],
   "source": []
  },
  {
   "cell_type": "code",
   "execution_count": null,
   "id": "67021968",
   "metadata": {},
   "outputs": [],
   "source": []
  }
 ],
 "metadata": {
  "kernelspec": {
   "display_name": "Python 3 (ipykernel)",
   "language": "python",
   "name": "python3"
  },
  "language_info": {
   "codemirror_mode": {
    "name": "ipython",
    "version": 3
   },
   "file_extension": ".py",
   "mimetype": "text/x-python",
   "name": "python",
   "nbconvert_exporter": "python",
   "pygments_lexer": "ipython3",
   "version": "3.11.3"
  }
 },
 "nbformat": 4,
 "nbformat_minor": 5
}
