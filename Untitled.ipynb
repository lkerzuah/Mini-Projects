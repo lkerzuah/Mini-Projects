{
 "cells": [
  {
   "cell_type": "code",
   "execution_count": 8,
   "id": "13ac426d",
   "metadata": {},
   "outputs": [
    {
     "name": "stdout",
     "output_type": "stream",
     "text": [
      "Hello and Welcome to RTS Bus Service.\n",
      "\n",
      "What is your age:12\n"
     ]
    },
    {
     "ename": "NameError",
     "evalue": "name 'locations' is not defined",
     "output_type": "error",
     "traceback": [
      "\u001b[1;31m---------------------------------------------------------------------------\u001b[0m",
      "\u001b[1;31mNameError\u001b[0m                                 Traceback (most recent call last)",
      "Cell \u001b[1;32mIn[8], line 18\u001b[0m\n\u001b[0;32m     14\u001b[0m \u001b[38;5;28;01mif\u001b[39;00m age \u001b[38;5;241m>\u001b[39m\u001b[38;5;241m12\u001b[39m:\n\u001b[0;32m     15\u001b[0m     \u001b[38;5;28mprint\u001b[39m(\u001b[38;5;124m\"\u001b[39m\u001b[38;5;124mYour transport fees are based on distance or location.\u001b[39m\u001b[38;5;124m\"\u001b[39m)\n\u001b[0;32m     16\u001b[0m locations \u001b[38;5;241m=\u001b[39m [\n\u001b[0;32m     17\u001b[0m     Box([Label(value\u001b[38;5;241m=\u001b[39m\u001b[38;5;124m'\u001b[39m\u001b[38;5;124mLocations\u001b[39m\u001b[38;5;124m'\u001b[39m),\n\u001b[1;32m---> 18\u001b[0m          Dropdown(options\u001b[38;5;241m=\u001b[39m[\u001b[38;5;124m'\u001b[39m\u001b[38;5;124mPaynesville\u001b[39m\u001b[38;5;124m'\u001b[39m,\u001b[38;5;124m'\u001b[39m\u001b[38;5;124mDula\u001b[39m\u001b[38;5;124m'\u001b[39m,\u001b[38;5;124m'\u001b[39m\u001b[38;5;124mGanta\u001b[39m\u001b[38;5;124m'\u001b[39m])],layout\u001b[38;5;241m=\u001b[39mlocations),\n\u001b[0;32m     19\u001b[0m ]\n",
      "\u001b[1;31mNameError\u001b[0m: name 'locations' is not defined"
     ]
    }
   ],
   "source": [
    "import ipywidgets as widgets\n",
    "import datetime as dt\n",
    "import math\n",
    "import time as tm\n",
    "# Third-party package for time zone handling, we'll discuss below!\n",
    "import pytz\n",
    "from ipywidgets import Layout, Box, Dropdown, Label\n",
    "\n",
    "#Simple Bus Tickets Booking App\n",
    "\n",
    "print(\"Hello and Welcome to RTS Bus Service.\\n\")\n",
    "age = int(input(\"What is your age:\"))\n",
    "\n",
    "if age >12:\n",
    "    print(\"Your transport fees are based on distance or location.\")\n",
    "locations = [\n",
    "    Box([Label(value='Locations'),\n",
    "         Dropdown(options=['Paynesville','Dula','Ganta'])],layout=locations),\n",
    "]\n",
    "\n",
    "    \n",
    "    \n",
    "\n",
    "    \n",
    "\n",
    "\n",
    "\n",
    "\n",
    "\n"
   ]
  },
  {
   "cell_type": "code",
   "execution_count": null,
   "id": "41298d34",
   "metadata": {},
   "outputs": [],
   "source": []
  },
  {
   "cell_type": "code",
   "execution_count": null,
   "id": "5302f290",
   "metadata": {},
   "outputs": [],
   "source": []
  }
 ],
 "metadata": {
  "kernelspec": {
   "display_name": "Python 3 (ipykernel)",
   "language": "python",
   "name": "python3"
  },
  "language_info": {
   "codemirror_mode": {
    "name": "ipython",
    "version": 3
   },
   "file_extension": ".py",
   "mimetype": "text/x-python",
   "name": "python",
   "nbconvert_exporter": "python",
   "pygments_lexer": "ipython3",
   "version": "3.11.3"
  }
 },
 "nbformat": 4,
 "nbformat_minor": 5
}
